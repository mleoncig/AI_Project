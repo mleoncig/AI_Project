{
  "nbformat": 4,
  "nbformat_minor": 0,
  "metadata": {
    "colab": {
      "provenance": [],
      "authorship_tag": "ABX9TyNE+/0PNNqrPdi7+/Obozvv",
      "include_colab_link": true
    },
    "kernelspec": {
      "name": "python3",
      "display_name": "Python 3"
    },
    "language_info": {
      "name": "python"
    }
  },
  "cells": [
    {
      "cell_type": "markdown",
      "metadata": {
        "id": "view-in-github",
        "colab_type": "text"
      },
      "source": [
        "<a href=\"https://colab.research.google.com/github/mleoncig/AI_Project/blob/workout_generator/Project_AI.ipynb\" target=\"_parent\"><img src=\"https://colab.research.google.com/assets/colab-badge.svg\" alt=\"Open In Colab\"/></a>"
      ]
    },
    {
      "cell_type": "markdown",
      "source": [
        "Last Updated: 11/15/2023\n",
        "\n",
        "TODO: add in error checking\n",
        "\n",
        "TODO: change a_factor calc\n",
        "\n",
        "TODO: add in default equipment values\n",
        "\n",
        "TODO: add in standard scaler (?)\n",
        "\n",
        "TODO: make workout split generator more personalized and ai based"
      ],
      "metadata": {
        "id": "TwYMD5XZO6Do"
      }
    },
    {
      "cell_type": "markdown",
      "source": [
        "Implementation\n",
        "\n",
        "* ask for BMI calculation\n",
        "* ask for equipment available\n",
        "* ask for experience level\n",
        "\n",
        "Generate gym split based on criteria above"
      ],
      "metadata": {
        "id": "nUJiLcX_DZd2"
      }
    },
    {
      "cell_type": "code",
      "source": [
        "import requests\n",
        "import json\n",
        "import csv\n",
        "import pandas as pd\n",
        "import sklearn"
      ],
      "metadata": {
        "id": "0lgYjf5uAUar"
      },
      "execution_count": 1,
      "outputs": []
    },
    {
      "cell_type": "markdown",
      "source": [
        "# Collecting Data From API\n",
        "* collecting and cleaning ( through pandas )"
      ],
      "metadata": {
        "id": "HXHKyWIp4EnZ"
      }
    },
    {
      "cell_type": "code",
      "execution_count": 3,
      "metadata": {
        "colab": {
          "base_uri": "https://localhost:8080/"
        },
        "id": "7u3Q6MJsxhvL",
        "outputId": "e3364d7d-b373-4bf6-caba-80474340e3aa"
      },
      "outputs": [
        {
          "output_type": "stream",
          "name": "stdout",
          "text": [
            "Total exercises retrieved: 3413\n"
          ]
        }
      ],
      "source": [
        "# Define the API URL\n",
        "base_url = 'https://api.api-ninjas.com/v1/exercises'\n",
        "\n",
        "api_key = 'b+5JS9PpABz0ysJEdtrRsQ==dJ7AslezF3lZbWAw'\n",
        "\n",
        "# Create a list to store all the exercise data\n",
        "all_exercises = []\n",
        "\n",
        "# Set the initial offset to 0\n",
        "offset = 0\n",
        "\n",
        "while True:\n",
        "    # Define the parameters for the request\n",
        "    params = {\n",
        "        'offset': offset\n",
        "    }\n",
        "\n",
        "    # Set the API key in the headers\n",
        "    headers = {\n",
        "        'X-Api-Key': api_key\n",
        "    }\n",
        "\n",
        "    # Send a GET request to the API\n",
        "    response = requests.get(base_url, params=params, headers=headers)\n",
        "\n",
        "    # Check if the request was successful (status code 200)\n",
        "    if response.status_code == 200:\n",
        "        data = response.json()\n",
        "\n",
        "        if data:\n",
        "          for i in data:\n",
        "            all_exercises.append(i)\n",
        "        else:\n",
        "          break\n",
        "\n",
        "        # Increment the offset to fetch the next page\n",
        "        offset += len(data)\n",
        "    else:\n",
        "        print(\"Failed to retrieve data from the API. Status code:\", response.status_code)\n",
        "        break\n",
        "\n",
        "print(f\"Total exercises retrieved: {len(all_exercises)}\")\n",
        "\n",
        "\n"
      ]
    },
    {
      "cell_type": "code",
      "source": [
        "# Importing all of the data into a CSV File\n",
        "import csv\n",
        "\n",
        "csv_file = 'exercises.csv'\n",
        "\n",
        "with open(csv_file, 'w', newline='') as csvfile:\n",
        "    fieldnames = all_exercises[0].keys()\n",
        "    writer = csv.DictWriter(csvfile, fieldnames=fieldnames)\n",
        "\n",
        "    writer.writeheader()\n",
        "    writer.writerows(all_exercises)"
      ],
      "metadata": {
        "id": "bWunqyhX2_VA"
      },
      "execution_count": 4,
      "outputs": []
    },
    {
      "cell_type": "markdown",
      "source": [
        "**Cleaning Data**\n",
        "* using pandas dataframe"
      ],
      "metadata": {
        "id": "cDwJkm_P4NQN"
      }
    },
    {
      "cell_type": "code",
      "source": [
        "\n",
        "#converting the data into a dataframe\n",
        "exercise_data = pd.read_csv('exercises.csv')\n",
        "\n",
        "# cleaning up leading and trailing white space in instructions\n",
        "exercise_data['instructions'] = exercise_data['instructions'].str.strip()\n",
        "\n",
        "# filling in missing values with 0\n",
        "exercise_data.fillna(0, inplace=True)\n",
        "\n",
        "cleaned_data = exercise_data.copy()\n"
      ],
      "metadata": {
        "id": "0vwTjHDr4DD3"
      },
      "execution_count": 5,
      "outputs": []
    },
    {
      "cell_type": "markdown",
      "source": [
        "#User Profile\n",
        "\n",
        "* TODO: add in user.goal (lose, maintain, gain)"
      ],
      "metadata": {
        "id": "bA41x1a6NoBR"
      }
    },
    {
      "cell_type": "code",
      "source": [
        "class User:\n",
        "\n",
        "  def __init__(self, name, age, weight, activity_level, height, sex, exp_level, equipment):\n",
        "    self.name = name\n",
        "    self.sex = sex\n",
        "    self.age = age\n",
        "\n",
        "    self.activity_level = activity_level\n",
        "    self.ac_factor = self.activity_factor(activity_level)\n",
        "\n",
        "    self.weight = self.weight_conv(weight)\n",
        "    self.height = self.height_conv(height)\n",
        "\n",
        "    self.exp_level = exp_level\n",
        "\n",
        "    self.equipment = equipment.replace(\" \", \"\").split(',')\n",
        "\n",
        "    self.goal = 0 # default value\n",
        "\n",
        "  def weight_conv(self, weight):\n",
        "    return weight * 0.453592\n",
        "\n",
        "  def height_conv(self, height):\n",
        "    feet, inches = map(int, height.split(','))\n",
        "    total_inches = feet * 12 + inches\n",
        "    return total_inches * 2.54\n",
        "\n",
        "  def activity_factor(self, activity_level):\n",
        "    activity_factors = {\n",
        "      1: 1.2,\n",
        "      2: 1.375,\n",
        "      3: 1.55,\n",
        "      4: 1.725,\n",
        "      5: 1.9\n",
        "    }\n",
        "\n",
        "    # getting activity factor\n",
        "    a_factor = [val for key, val in activity_factors.items() if activity_level == key]\n",
        "    a_factor = a_factor[0]\n",
        "\n",
        "    return a_factor\n",
        "\n",
        "  def set_goal(self, new_goal):\n",
        "    self.goal = new_goal\n",
        "\n",
        "\n",
        "\n",
        "\n",
        "\n"
      ],
      "metadata": {
        "id": "_nYKSESsNt48"
      },
      "execution_count": 6,
      "outputs": []
    },
    {
      "cell_type": "code",
      "source": [
        "name = input('Please enter your name: ')\n",
        "age = int(input('Please enter your age: '))\n",
        "weight = float(input('Please enter your weight in lbs: '))\n",
        "height = input('Please enter your height in feet,inches (EX: 5\\'2\" = 5,2 ): ' )\n",
        "sex = input('Enter your gender (M or F):').lower()\n",
        "exp_level = int(input('Please enter your experience level: (1. Beginner, 2. Intermediate, 3. Experienced)'))\n",
        "equipment = input('Please enter the equipment available to you: ')\n",
        "\n",
        "print('\\nGUIDE\\n1. Sedentary\\n2. Lightly Active\\n3. Moderately Active\\n4. Very Active\\n5. Super Active')\n",
        "activity_level = int(input('Enter your activity level (# corresponding to your level): '))\n",
        "\n",
        "MyUser = User(name, age, weight, activity_level, height, sex, exp_level, equipment)"
      ],
      "metadata": {
        "colab": {
          "base_uri": "https://localhost:8080/"
        },
        "id": "_RazPQ1tRMs4",
        "outputId": "76b2bf9c-f67a-49b2-c0d1-6d942a37d799"
      },
      "execution_count": 7,
      "outputs": [
        {
          "name": "stdout",
          "output_type": "stream",
          "text": [
            "Please enter your name: Michelle Leon\n",
            "Please enter your age: 21\n",
            "Please enter your weight in lbs: 160\n",
            "Please enter your height in feet,inches (EX: 5'2\" = 5,2 ): 5,4\n",
            "Enter your gender (M or F):f\n",
            "Please enter your experience level: (1. Beginner, 2. Intermediate, 3. Experienced)2\n",
            "Please enter the equipment available to you: dumbbell, body_only, none, exercise_ball, None, other\n",
            "\n",
            "GUIDE\n",
            "1. Sedentary\n",
            "2. Lightly Active\n",
            "3. Moderately Active\n",
            "4. Very Active\n",
            "5. Super Active\n",
            "Enter your activity level (# corresponding to your level): 3\n"
          ]
        }
      ]
    },
    {
      "cell_type": "markdown",
      "source": [
        "# TDEE & BMI Calculation"
      ],
      "metadata": {
        "id": "pwTwaBYjbsaT"
      }
    },
    {
      "cell_type": "code",
      "source": [
        "\n",
        "def tdee_calculation(weight_kg, height, age, a_factor, sex):\n",
        "\n",
        "  # calculating based on gender\n",
        "  if sex == 'm':\n",
        "    bmr = 88.362 + (13.397 * weight_kg) + (4.799 * height) - (5.677 * age)\n",
        "    #bmr = (10 * weight_kg) + (6.25 * height) - (5 * age) + 5\n",
        "  elif sex == 'f':\n",
        "    bmr = 447.593 + (9.247 * weight_kg) + (3.098 * height) - (4.330 * age)\n",
        "\n",
        "\n",
        "  return bmr * a_factor"
      ],
      "metadata": {
        "id": "4dVFdpoziGRA"
      },
      "execution_count": 8,
      "outputs": []
    },
    {
      "cell_type": "code",
      "source": [
        "def tdee_results(w, h, a, a_l, s):\n",
        "\n",
        "  tdee = tdee_calculation(w, h, a, a_l, s)\n",
        "\n",
        "  print('TDEE RESULTS')\n",
        "  print(f'  Maintain Weight:\\t{tdee:.2f} calories/day')\n",
        "  print(f'  Mild Weight Loss:\\t{(tdee*0.9):.2f} calories/day')\n",
        "  print(f'  Weight Loss:\\t\\t{(tdee*0.8):.2f} calories/day')\n",
        "  print(f'  Extreme Weight Loss:\\t{(tdee*0.6):.2f} calories/day\\n\\n')"
      ],
      "metadata": {
        "id": "IRwNhxgyiIAZ"
      },
      "execution_count": 9,
      "outputs": []
    },
    {
      "cell_type": "code",
      "source": [
        "def bmi_calculation(weight, height):\n",
        "  height = height / 100\n",
        "  height_calc = pow(height, 2)\n",
        "  return weight / height_calc"
      ],
      "metadata": {
        "id": "2x8dv6cXXrED"
      },
      "execution_count": 10,
      "outputs": []
    },
    {
      "cell_type": "code",
      "source": [
        "def bmi_results(weight, height):\n",
        "\n",
        "  bmi = bmi_calculation(weight, height)\n",
        "\n",
        "  print(f'BMI RESULTS\\n  bmi: {bmi:.2f}\\t', end='')\n",
        "  if bmi < 18.5:\n",
        "      print('Underweight')\n",
        "  elif 18.5 <= bmi < 24.9:\n",
        "      print('Normal (Healthy) Weight')\n",
        "  elif 25.0 <= bmi < 29.9:\n",
        "      print('Overweight')\n",
        "  elif bmi >= 30.0:\n",
        "      print('Obese')"
      ],
      "metadata": {
        "id": "aceJmYc7X3-y"
      },
      "execution_count": 11,
      "outputs": []
    },
    {
      "cell_type": "code",
      "source": [
        "\n",
        "tdee_results(MyUser.weight, MyUser.height, MyUser.age, MyUser.ac_factor, MyUser.sex)\n",
        "bmi_results(MyUser.weight, MyUser.height)\n",
        "\n",
        "goal = int(input('Based on the above results, what is your goal? (1. Lose, 2. Maintain, 3. Gain) '))\n",
        "MyUser.set_goal(goal)\n"
      ],
      "metadata": {
        "colab": {
          "base_uri": "https://localhost:8080/"
        },
        "id": "JmeMKCLXbvZA",
        "outputId": "93b395d1-4a73-4c10-edfd-43c49fa55334"
      },
      "execution_count": 12,
      "outputs": [
        {
          "name": "stdout",
          "output_type": "stream",
          "text": [
            "TDEE RESULTS\n",
            "  Maintain Weight:\t2373.63 calories/day\n",
            "  Mild Weight Loss:\t2136.26 calories/day\n",
            "  Weight Loss:\t\t1898.90 calories/day\n",
            "  Extreme Weight Loss:\t1424.18 calories/day\n",
            "\n",
            "\n",
            "BMI RESULTS\n",
            "  bmi: 27.46\tOverweight\n",
            "Based on the above results, what is your goal? (1. Lose, 2. Maintain, 3. Gain) 1\n"
          ]
        }
      ]
    },
    {
      "cell_type": "markdown",
      "source": [
        "#RandomForestClassifier/Regressor\n",
        "\n",
        "* classifier: predicts whether workout reccommended (1: yes 0: no)\n",
        "\n",
        "* regressor: predicts # of days user should train"
      ],
      "metadata": {
        "id": "qQERqsD6FGhK"
      }
    },
    {
      "cell_type": "code",
      "source": [
        "# assigning numerical representation for difficulty  levels:\n",
        "# adding new column called 'Difficulty Mapping'\n",
        "\n",
        "difficulty_mapping = {'beginner':1, 'intermediate':2, 'expert':3}\n",
        "diff_numbered = cleaned_data['difficulty'].map(difficulty_mapping)\n",
        "cleaned_data['Difficulty Mapping'] = diff_numbered\n",
        "\n",
        "\n",
        "# creating subsets for each experience level\n",
        "beginner_data = cleaned_data[cleaned_data['Difficulty Mapping'] == 1]\n",
        "intermediate_data = cleaned_data[cleaned_data['Difficulty Mapping'] == 2]\n",
        "advanced_data = cleaned_data[cleaned_data['Difficulty Mapping'] == 3]\n",
        "\n"
      ],
      "metadata": {
        "id": "2M_2cMDdFv9Y"
      },
      "execution_count": 13,
      "outputs": []
    },
    {
      "cell_type": "code",
      "source": [
        "'''\n",
        "Testing with User\n",
        " with following equipment and experience level\n",
        "\n",
        "EXPERIENCE: 2\n",
        "EQUIPMENT: dumbbell, body_only, none, exercise_ball, None, other\n",
        "\n",
        "'''\n",
        "\n",
        "def is_recommended(row):\n",
        "\n",
        "  if row['equipment'] in MyUser.equipment and row['Difficulty Mapping'] <= MyUser.exp_level:\n",
        "    return 1\n",
        "  else:\n",
        "    return 0\n",
        "\n",
        "cleaned_data['Recommended'] = cleaned_data.apply(is_recommended, axis=1)\n",
        "\n",
        "\n"
      ],
      "metadata": {
        "id": "rDxsrwO7ji-I"
      },
      "execution_count": 14,
      "outputs": []
    },
    {
      "cell_type": "markdown",
      "source": [
        "Prediction: Specific Workout Based on User Input"
      ],
      "metadata": {
        "id": "9YeA_CO880KK"
      }
    },
    {
      "cell_type": "code",
      "source": [
        "\n",
        "from sklearn.model_selection import train_test_split\n",
        "from sklearn.ensemble import RandomForestClassifier\n",
        "from sklearn.metrics import accuracy_score\n",
        "\n",
        "#data_encoded = pd.get_dummies(cleaned_data[['type', 'muscle', 'equipment', 'difficulty']])\n",
        "data_encoded = pd.get_dummies(cleaned_data[['type', 'equipment', 'difficulty']])\n",
        "df_final = pd.concat([cleaned_data[['name']], data_encoded], axis=1)\n",
        "\n",
        "# Recommended = target variable\n",
        "df_final['Recommended'] = cleaned_data['Recommended']\n",
        "\n",
        "\n",
        "# splitting dataset into training and testing sets\n",
        "\n",
        "x_train, x_test, y_train, y_test = train_test_split(\n",
        "    df_final.drop(['name', 'Recommended'], axis=1),\n",
        "    df_final['Recommended'],\n",
        "    test_size = 0.4,\n",
        "    random_state=42\n",
        ")\n",
        "\n",
        "model = RandomForestClassifier(n_estimators=100, random_state=42)\n",
        "model.fit(x_train, y_train)\n",
        "\n",
        "predictions = model.predict(x_test)\n",
        "accuracy = accuracy_score(y_test, predictions)\n",
        "print(f'Model Accuracy: {accuracy}')\n",
        "\n",
        "\n",
        "\n",
        "user_data = {'type': 'strength',\n",
        "             'equipment': MyUser.equipment,\n",
        "             'difficulty': MyUser.exp_level}\n",
        "\n",
        "# Create a DataFrame with the user data\n",
        "user_data_df = pd.DataFrame([user_data])\n",
        "\n",
        "# Extract the list of equipment\n",
        "user_equipment_list = user_data_df['equipment'].iloc[0]\n",
        "\n",
        "# Create binary columns for each unique equipment type\n",
        "for equipment_type in set(user_equipment_list):\n",
        "    user_data_df[f'equipment_{equipment_type}'] = user_data_df['equipment'].apply(lambda x: 1 if equipment_type in x else 0)\n",
        "\n",
        "# Drop the original 'equipment' column\n",
        "user_data_df = user_data_df.drop('equipment', axis=1)\n",
        "\n",
        "\n",
        "# Fill NaN values with 0\n",
        "user_data_df = user_data_df.fillna(0)\n",
        "user_data_df = user_data_df.reindex(columns=x_train.columns, fill_value=0)\n",
        "predictions_new = model.predict(user_data_df)\n",
        "\n",
        "print(f'Recommended Exercises for New User: {predictions_new}')\n",
        "\n",
        "\n"
      ],
      "metadata": {
        "colab": {
          "base_uri": "https://localhost:8080/"
        },
        "id": "h48eUrBwQ9Dv",
        "outputId": "a632c3f1-1262-4b77-a66d-72d7f8d37f6f"
      },
      "execution_count": 15,
      "outputs": [
        {
          "output_type": "stream",
          "name": "stdout",
          "text": [
            "Model Accuracy: 0.9985358711566618\n",
            "Recommended Exercises for New User: [1]\n"
          ]
        }
      ]
    },
    {
      "cell_type": "markdown",
      "source": [
        "Prediction: # of Days to Train Based on User Data\n",
        "\n",
        "TODO: add in goal into the prediction model"
      ],
      "metadata": {
        "id": "paII5BkS85Bw"
      }
    },
    {
      "cell_type": "code",
      "source": [
        "'''\n",
        "make a replica of the code above but instead do it for the user profile with the\n",
        "bmi and tdee and train it on difference users and have it predict that amount of days\n",
        "they would have to train\n",
        "'''\n",
        "\n",
        "import random\n",
        "\n",
        "def generate_random_user(count):\n",
        "  age = random.randint(16, 80)\n",
        "  weight = random.uniform(50, 100)\n",
        "  activity_levels = [1,2,3,4,5]\n",
        "  activity_level = random.choice(activity_levels)\n",
        "  height = random.uniform(150,190)\n",
        "  sex = random.choice(['m', 'f'])\n",
        "\n",
        "  activity_factors = {\n",
        "      1: 1.2,\n",
        "      2: 1.375,\n",
        "      3: 1.55,\n",
        "      4: 1.725,\n",
        "      5: 1.9\n",
        "  }\n",
        "\n",
        "  # getting activity factor\n",
        "  a_factor = activity_factors.get(activity_level)\n",
        "  tdee = tdee_calculation(weight, height, age, a_factor, sex)\n",
        "  bmi = bmi_calculation(weight, height)\n",
        "\n",
        "  recc = 5 # default recc value\n",
        "  if age > 50 and bmi >= 25:\n",
        "    recc = random.choice([3,4,5])\n",
        "  elif age > 50 and (bmi >= 18.5 and bmi < 25):\n",
        "    recc = random.choice([4,5])\n",
        "  elif (age <= 50 and age >= 40) and bmi >= 25:\n",
        "    recc = random.choice([4,5])\n",
        "  elif (age <= 50 and age >= 40) and (bmi >= 18.5 and bmi < 25):\n",
        "    recc = random.choice([5,6])\n",
        "  elif age < 40 and bmi >= 25:\n",
        "    recc = random.choice([5, 6])\n",
        "  elif age < 40 and (bmi >= 18.5 and bmi < 25):\n",
        "    recc = random.choice([4, 5, 6])\n",
        "\n",
        "\n",
        "  user = {\n",
        "      'ID': count,\n",
        "      'age': age,\n",
        "      'weight': weight,\n",
        "      'activity_level': activity_level,\n",
        "      'activity_factor': a_factor,\n",
        "      'height': height,\n",
        "      'sex': sex,\n",
        "      'tdee': tdee,\n",
        "      'bmi': bmi,\n",
        "      'reccomendation': recc\n",
        "  }\n",
        "\n",
        "  return user\n",
        "\n",
        "random_users = {f'Person{i}': generate_random_user(i) for i in range(1, 201)}\n",
        "\n",
        "# used to check random_user data for correctness\n",
        "#for person_id, user_data in list(random_users.items())[:20]:\n",
        "#  print(f'{person_id}: {user_data}')\n",
        "\n",
        "random_users_df = pd.DataFrame.from_dict(random_users, orient='index')\n",
        "print(random_users_df.columns)\n",
        "\n"
      ],
      "metadata": {
        "colab": {
          "base_uri": "https://localhost:8080/"
        },
        "id": "BbErWQojcJqr",
        "outputId": "1433259d-51ba-40d3-ff8c-3badd0871486"
      },
      "execution_count": 16,
      "outputs": [
        {
          "output_type": "stream",
          "name": "stdout",
          "text": [
            "Index(['ID', 'age', 'weight', 'activity_level', 'activity_factor', 'height',\n",
            "       'sex', 'tdee', 'bmi', 'reccomendation'],\n",
            "      dtype='object')\n"
          ]
        }
      ]
    },
    {
      "cell_type": "code",
      "source": [
        "from sklearn.ensemble import RandomForestRegressor\n",
        "from sklearn.metrics import mean_squared_error\n",
        "\n",
        "\n",
        "data_encoded_users = pd.get_dummies(random_users_df[['age', 'weight', 'activity_level','activity_factor','height','sex','tdee','bmi']])\n",
        "df_final_users = pd.concat([random_users_df[['ID']], data_encoded_users], axis=1)\n",
        "\n",
        "# Recommended = target variable\n",
        "df_final_users['reccomendation'] = random_users_df['reccomendation']\n",
        "\n",
        "\n",
        "# splitting dataset into training and testing sets\n",
        "\n",
        "x_train, x_test, y_train, y_test = train_test_split(\n",
        "    df_final_users.drop(['ID', 'reccomendation'], axis=1),\n",
        "    df_final_users['reccomendation'],\n",
        "    test_size = 0.25,\n",
        "    random_state=42\n",
        ")\n",
        "\n",
        "regressor = RandomForestRegressor(n_estimators=100, random_state=42)\n",
        "regressor.fit(x_train, y_train)\n",
        "\n",
        "predictions = regressor.predict(x_test)\n",
        "mse = mean_squared_error(y_test, predictions)\n",
        "print(f'Mean Squared Error: {mse}')\n",
        "\n",
        "new_user_data = {\n",
        "    'ID': 202,\n",
        "    'age': MyUser.age,\n",
        "    'weight': MyUser.weight,\n",
        "    'activity_level': MyUser.activity_level,\n",
        "    'activity_factor': MyUser.ac_factor,\n",
        "    'height': MyUser.height,\n",
        "    'sex': MyUser.sex,\n",
        "    'tdee': 2373.63,\n",
        "    'bmi': 27.46\n",
        "}\n",
        "\n",
        "new_user_data_df = pd.DataFrame([new_user_data])\n",
        "new_user_data_encoded =  pd.get_dummies(new_user_data_df[['age', 'weight', 'activity_level', 'activity_factor', 'height', 'sex', 'tdee', 'bmi']])\n",
        "missing_columns = set(x_train.columns) - set(new_user_data_encoded.columns)\n",
        "for column in missing_columns:\n",
        "    new_user_data_encoded[column] = 0\n",
        "\n",
        "prediction_new_user = regressor.predict(new_user_data_encoded)\n",
        "prediction_new_user = round(prediction_new_user[0])\n",
        "print(f'Predicted Number of Days for New User: {prediction_new_user}')\n"
      ],
      "metadata": {
        "colab": {
          "base_uri": "https://localhost:8080/"
        },
        "id": "3G4bC60KIR7Q",
        "outputId": "659fffa5-baf4-4d01-fb73-4cbdc003102c"
      },
      "execution_count": 17,
      "outputs": [
        {
          "output_type": "stream",
          "name": "stdout",
          "text": [
            "Mean Squared Error: 0.37239799999999995\n",
            "Predicted Number of Days for New User: 5\n"
          ]
        }
      ]
    },
    {
      "cell_type": "markdown",
      "source": [
        "#Workout Generator"
      ],
      "metadata": {
        "id": "sJyVVVQ0Wgvq"
      }
    },
    {
      "cell_type": "markdown",
      "source": [
        "Data Preparation"
      ],
      "metadata": {
        "id": "QRbXEMslW1kS"
      }
    },
    {
      "cell_type": "code",
      "source": [
        "\n",
        "\n",
        "# create dict to map to general areas of body\n",
        "muscle_mapping = {\n",
        "    'Lower Body': ['quadriceps', 'abductors', 'hamstrings', 'glutes', 'calves', 'adductors'],\n",
        "    'Upper Body': ['lats', 'middle_back', 'lower_back', 'shoulders', 'forearms', 'triceps', 'chest', 'biceps', 'traps', 'neck', 'abdominals']\n",
        "}\n"
      ],
      "metadata": {
        "id": "qjXE_MqvrL9E"
      },
      "execution_count": 18,
      "outputs": []
    },
    {
      "cell_type": "code",
      "source": [
        "def cardio_amount(prediction_new_user, goal):\n",
        "\n",
        "  # if working out for 1-2 days then do cardio both days\n",
        "  if prediction_new_user <= 2:\n",
        "    return prediction_new_user\n",
        "\n",
        "  # if goal is to lose weight then cardio every day\n",
        "  if goal == 1:\n",
        "    return prediction_new_user\n",
        "  else:\n",
        "    if prediction_new_user == 3:\n",
        "      return prediction_new_user - 1\n",
        "    elif prediction_new_user == 4 or prediction_new_user == 5:\n",
        "      return prediction_new_user - 2\n",
        "    elif prediction_new_user == 6:\n",
        "      return prediction_new_user -3\n",
        "\n",
        "\n",
        "\n",
        "\n",
        "\n",
        "\n",
        "def workout_generator(prediction_new_user, equipment, exp_level):\n",
        "\n",
        "  cardio_days = cardio_amount(prediction_new_user, MyUser.goal)\n",
        "\n",
        "  # extracing equipment available and difficulty level correlated to user from df\n",
        "  user_specific_df = cleaned_data.loc[\n",
        "    (cleaned_data['Difficulty Mapping'] == exp_level) &\n",
        "    cleaned_data['equipment'].isin(equipment)\n",
        "  ]\n",
        "\n",
        "  lower_body_exercises = user_specific_df.loc[user_specific_df['muscle'].isin(muscle_mapping['Lower Body'])]\n",
        "  upper_body_exercises = user_specific_df.loc[user_specific_df['muscle'].isin(muscle_mapping['Upper Body'])]\n",
        "  cardio_exercises = user_specific_df[user_specific_df['type'] == 'cardio']\n",
        "\n",
        "  lower_body_exercises = lower_body_exercises.sample(frac=1).reset_index(drop=True)\n",
        "  upper_body_exercises = upper_body_exercises.sample(frac=1).reset_index(drop=True)\n",
        "  cardio_exercises = cardio_exercises.sample(frac=1).reset_index(drop=True)\n",
        "\n",
        "\n",
        "  if prediction_new_user <= 2:\n",
        "    num_full_body_days = prediction_new_user\n",
        "  else:\n",
        "    num_full_body_days = 1\n",
        "\n",
        "\n",
        "  workout_split = {}\n",
        "  for day in range(1, prediction_new_user + 1):\n",
        "    if day <= num_full_body_days:\n",
        "      workouts = user_specific_df['name'].sample(5).tolist()\n",
        "      workout_split[f'Day {day}: FULL BODY'] = workouts\n",
        "    else:\n",
        "      if (day - num_full_body_days) % 3 == 1:\n",
        "        workouts = lower_body_exercises['name'].sample(4).tolist()\n",
        "        workout_split[f'Day {day}: LOWER BODY'] = workouts\n",
        "      elif (day - num_full_body_days) % 3 == 2:\n",
        "        workouts = upper_body_exercises['name'].sample(4).tolist()\n",
        "        workout_split[f'Day {day}: UPPER BODY'] = workouts\n",
        "      else:\n",
        "        workout_split[f'Day {day}: CARDIO'] = cardio_exercises['name'].sample(2).tolist()\n",
        "\n",
        "\n",
        "  return workout_split\n",
        "\n",
        "\n",
        "split = workout_generator(prediction_new_user, MyUser.equipment, MyUser.exp_level)\n",
        "print(split)\n",
        "\n"
      ],
      "metadata": {
        "colab": {
          "base_uri": "https://localhost:8080/"
        },
        "id": "hduSLv14Wkkv",
        "outputId": "9e2a913f-15a4-4b90-da6d-9871b507ca90"
      },
      "execution_count": 41,
      "outputs": [
        {
          "output_type": "stream",
          "name": "stdout",
          "text": [
            "{'Day 1: FULL BODY': ['Holman Feet-Elevated Plank with Shoulder Tap', 'Holman Elbow Plank Alternating Pike', 'MetaBurn Biceps Curl To Lateral Raise', 'Holman Deadlift to Biceps Curl', 'Incline Dumbbell I Raise'], 'Day 2: LOWER BODY': ['Clam', 'Holman Weighted Burpee to 180 Jump', 'Lying glute stretch', 'Holman Skate'], 'Day 3: UPPER BODY': ['Atlas Stones', 'MetaBurn Plank To Alternating Row', 'Holman Left Front Raise with Right Hold', 'HM Shoulder Stretch on Floor'], 'Day 4: CARDIO': ['FYR Sprinter Burpee', 'Jumping rope'], 'Day 5: LOWER BODY': ['Bodyweight Squat - Gethin Variation', 'AH Skip Jump', 'Burpee', 'Lunge glute stretch']}\n"
          ]
        }
      ]
    }
  ]
}